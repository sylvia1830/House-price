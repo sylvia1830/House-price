{
 "cells": [
  {
   "cell_type": "code",
   "execution_count": 1,
   "metadata": {},
   "outputs": [
    {
     "name": "stderr",
     "output_type": "stream",
     "text": [
      "C:\\Users\\Sylvia\\AppData\\Local\\Temp\\ipykernel_2040\\897964594.py:3: DtypeWarning: Columns (3,7,14,15,16,17,18,21,22,24,25,28,29,30,31,32) have mixed types. Specify dtype option on import or set low_memory=False.\n",
      "  data=pd.read_csv('./csv/selected_data0530.csv')\n"
     ]
    }
   ],
   "source": [
    "import pandas as pd\n",
    "\n",
    "data=pd.read_csv('./csv/selected_data0530.csv')"
   ]
  },
  {
   "cell_type": "code",
   "execution_count": 8,
   "metadata": {},
   "outputs": [
    {
     "data": {
      "text/plain": [
       "Index(['鄉鎮市區', '交易標的', '土地位置建物門牌', '土地移轉總面積平方公尺', '都市土地使用分區', '非都市土地使用分區',\n",
       "       '非都市土地使用編定', '交易年月日', '交易筆棟數', '移轉層次', '總樓層數', '建物型態', '主要用途', '主要建材',\n",
       "       '建築完成年月', '建物移轉總面積平方公尺', '建物現況格局-房', '建物現況格局-廳', '建物現況格局-衛',\n",
       "       '建物現況格局-隔間', '有無管理組織', '總價元', '單價元平方公尺', '車位類別', '車位移轉總面積(平方公尺)',\n",
       "       '車位總價元', '備註', '編號', '主建物面積', '附屬建物面積', '陽台面積', '電梯', '移轉編號', '縣市名稱',\n",
       "       '郵遞區號'],\n",
       "      dtype='object')"
      ]
     },
     "execution_count": 8,
     "metadata": {},
     "output_type": "execute_result"
    }
   ],
   "source": [
    "data.columns"
   ]
  },
  {
   "cell_type": "code",
   "execution_count": 10,
   "metadata": {},
   "outputs": [
    {
     "name": "stdout",
     "output_type": "stream",
     "text": [
      "<class 'pandas.core.frame.DataFrame'>\n",
      "RangeIndex: 739624 entries, 0 to 739623\n",
      "Data columns (total 35 columns):\n",
      " #   Column         Non-Null Count   Dtype  \n",
      "---  ------         --------------   -----  \n",
      " 0   鄉鎮市區           739624 non-null  object \n",
      " 1   交易標的           739624 non-null  object \n",
      " 2   土地位置建物門牌       739624 non-null  object \n",
      " 3   土地移轉總面積平方公尺    739624 non-null  object \n",
      " 4   都市土地使用分區       653668 non-null  object \n",
      " 5   非都市土地使用分區      76200 non-null   object \n",
      " 6   非都市土地使用編定      76115 non-null   object \n",
      " 7   交易年月日          739624 non-null  object \n",
      " 8   交易筆棟數          739624 non-null  object \n",
      " 9   移轉層次           620999 non-null  object \n",
      " 10  總樓層數           620934 non-null  object \n",
      " 11  建物型態           739624 non-null  object \n",
      " 12  主要用途           618036 non-null  object \n",
      " 13  主要建材           621057 non-null  object \n",
      " 14  建築完成年月         603591 non-null  object \n",
      " 15  建物移轉總面積平方公尺    739624 non-null  object \n",
      " 16  建物現況格局-房       739624 non-null  object \n",
      " 17  建物現況格局-廳       739624 non-null  object \n",
      " 18  建物現況格局-衛       739624 non-null  object \n",
      " 19  建物現況格局-隔間      739624 non-null  object \n",
      " 20  有無管理組織         739624 non-null  object \n",
      " 21  總價元            739624 non-null  object \n",
      " 22  單價元平方公尺        718608 non-null  object \n",
      " 23  車位類別           327504 non-null  object \n",
      " 24  車位移轉總面積(平方公尺)  739624 non-null  object \n",
      " 25  車位總價元          739624 non-null  object \n",
      " 26  備註             341217 non-null  object \n",
      " 27  編號             739624 non-null  object \n",
      " 28  主建物面積          739552 non-null  object \n",
      " 29  附屬建物面積         739552 non-null  object \n",
      " 30  陽台面積           739552 non-null  object \n",
      " 31  電梯             414711 non-null  object \n",
      " 32  移轉編號           112150 non-null  object \n",
      " 33  縣市名稱           739624 non-null  object \n",
      " 34  郵遞區號           503825 non-null  float64\n",
      "dtypes: float64(1), object(34)\n",
      "memory usage: 197.5+ MB\n"
     ]
    }
   ],
   "source": [
    "data.info()"
   ]
  },
  {
   "cell_type": "code",
   "execution_count": 14,
   "metadata": {},
   "outputs": [
    {
     "name": "stdout",
     "output_type": "stream",
     "text": [
      "交易標的\n",
      "房地(土地+建物)+車位        306979\n",
      "房地(土地+建物)           301836\n",
      "土地                  108644\n",
      "車位                   19785\n",
      "建物                    2288\n",
      "transaction sign        92\n",
      "Name: count, dtype: int64\n"
     ]
    }
   ],
   "source": [
    "# 計算'交易標的'欄位中相同內容的數量\n",
    "count = data['交易標的'].value_counts()\n",
    "print(count)\n"
   ]
  },
  {
   "attachments": {},
   "cell_type": "markdown",
   "metadata": {},
   "source": [
    "刪除不需要資料"
   ]
  },
  {
   "cell_type": "code",
   "execution_count": 12,
   "metadata": {},
   "outputs": [],
   "source": [
    "# 要刪除的特定值\n",
    "drop_values = ['transaction sign', '車位', '土地']\n",
    "\n",
    "# 刪除'交易標的'欄位中等於特定值的資料\n",
    "newdata = data.drop(data[data['交易標的'].isin(drop_values)].index)\n"
   ]
  },
  {
   "cell_type": "code",
   "execution_count": 15,
   "metadata": {},
   "outputs": [
    {
     "name": "stdout",
     "output_type": "stream",
     "text": [
      "交易標的\n",
      "房地(土地+建物)+車位    306979\n",
      "房地(土地+建物)       301836\n",
      "建物                2288\n",
      "Name: count, dtype: int64\n"
     ]
    }
   ],
   "source": [
    "# 計算'交易標的'欄位中相同內容的數量\n",
    "count = newdata['交易標的'].value_counts()\n",
    "print(count)\n"
   ]
  },
  {
   "cell_type": "code",
   "execution_count": 13,
   "metadata": {},
   "outputs": [
    {
     "name": "stdout",
     "output_type": "stream",
     "text": [
      "<class 'pandas.core.frame.DataFrame'>\n",
      "Index: 611103 entries, 1 to 739622\n",
      "Data columns (total 35 columns):\n",
      " #   Column         Non-Null Count   Dtype  \n",
      "---  ------         --------------   -----  \n",
      " 0   鄉鎮市區           611103 non-null  object \n",
      " 1   交易標的           611103 non-null  object \n",
      " 2   土地位置建物門牌       611103 non-null  object \n",
      " 3   土地移轉總面積平方公尺    611103 non-null  object \n",
      " 4   都市土地使用分區       563052 non-null  object \n",
      " 5   非都市土地使用分區      43472 non-null   object \n",
      " 6   非都市土地使用編定      43457 non-null   object \n",
      " 7   交易年月日          611103 non-null  object \n",
      " 8   交易筆棟數          611103 non-null  object \n",
      " 9   移轉層次           610717 non-null  object \n",
      " 10  總樓層數           610656 non-null  object \n",
      " 11  建物型態           611103 non-null  object \n",
      " 12  主要用途           607766 non-null  object \n",
      " 13  主要建材           610777 non-null  object \n",
      " 14  建築完成年月         593389 non-null  object \n",
      " 15  建物移轉總面積平方公尺    611103 non-null  object \n",
      " 16  建物現況格局-房       611103 non-null  object \n",
      " 17  建物現況格局-廳       611103 non-null  object \n",
      " 18  建物現況格局-衛       611103 non-null  object \n",
      " 19  建物現況格局-隔間      611103 non-null  object \n",
      " 20  有無管理組織         611103 non-null  object \n",
      " 21  總價元            611103 non-null  object \n",
      " 22  單價元平方公尺        609872 non-null  object \n",
      " 23  車位類別           307604 non-null  object \n",
      " 24  車位移轉總面積(平方公尺)  611103 non-null  object \n",
      " 25  車位總價元          611103 non-null  object \n",
      " 26  備註             275420 non-null  object \n",
      " 27  編號             611103 non-null  object \n",
      " 28  主建物面積          611103 non-null  object \n",
      " 29  附屬建物面積         611103 non-null  object \n",
      " 30  陽台面積           611103 non-null  object \n",
      " 31  電梯             341329 non-null  object \n",
      " 32  移轉編號           78261 non-null   object \n",
      " 33  縣市名稱           611103 non-null  object \n",
      " 34  郵遞區號           488387 non-null  float64\n",
      "dtypes: float64(1), object(34)\n",
      "memory usage: 167.8+ MB\n"
     ]
    }
   ],
   "source": [
    "# 各欄位的資料型態\n",
    "newdata.info()"
   ]
  },
  {
   "attachments": {},
   "cell_type": "markdown",
   "metadata": {},
   "source": [
    "分割交易年月日"
   ]
  },
  {
   "cell_type": "code",
   "execution_count": 16,
   "metadata": {},
   "outputs": [
    {
     "data": {
      "text/plain": [
       "1         1060926\n",
       "2         1060804\n",
       "3         1061010\n",
       "4         1061004\n",
       "5         1061018\n",
       "           ...   \n",
       "739618    1070818\n",
       "739619    1070704\n",
       "739620    1070706\n",
       "739621    1070706\n",
       "739622    1070622\n",
       "Name: 交易年月日, Length: 611103, dtype: object"
      ]
     },
     "execution_count": 16,
     "metadata": {},
     "output_type": "execute_result"
    }
   ],
   "source": [
    "newdata['交易年月日']"
   ]
  },
  {
   "cell_type": "code",
   "execution_count": 17,
   "metadata": {},
   "outputs": [],
   "source": [
    "# # 分割欄位\n",
    "newdata['交易年'] = newdata['交易年月日'].str[:3]   # 取出民國年份並加上1911轉換為西元年份\n",
    "newdata['交易月'] = newdata['交易年月日'].str[3:5]  # 取出月份\n",
    "newdata['交易日'] = newdata['交易年月日'].str[5:7]\n",
    "\n",
    "# print(data['交易月'])"
   ]
  },
  {
   "cell_type": "code",
   "execution_count": 18,
   "metadata": {},
   "outputs": [
    {
     "name": "stdout",
     "output_type": "stream",
     "text": [
      "交易年\n",
      "109    123710\n",
      "108    115436\n",
      "111    101989\n",
      "110    101398\n",
      "107    100757\n",
      "106     31905\n",
      "112      6008\n",
      "105      4327\n",
      "103      3225\n",
      "104      3012\n",
      "102      2672\n",
      "101      1944\n",
      "100        71\n",
      "990        25\n",
      "960        14\n",
      "991         5\n",
      "980         4\n",
      "950         2\n",
      "840         1\n",
      "811         1\n",
      "970         1\n",
      "940         1\n",
      "907         1\n",
      "906         1\n",
      "981         1\n",
      "651         1\n",
      "870         1\n",
      "190         1\n",
      "Name: count, dtype: int64\n"
     ]
    }
   ],
   "source": [
    "count = newdata['交易年'].value_counts()\n",
    "print(count)"
   ]
  },
  {
   "attachments": {},
   "cell_type": "markdown",
   "metadata": {},
   "source": [
    "刪除112-106年以外資料"
   ]
  },
  {
   "cell_type": "code",
   "execution_count": 19,
   "metadata": {},
   "outputs": [],
   "source": [
    "# 所需年份\n",
    "needyear = ['112', '111', '110', '109', '108', '107', '106']\n",
    "\n",
    "needyear_df = newdata[newdata['交易年'].isin(needyear)]\n",
    "# print(needyear_df)\n"
   ]
  },
  {
   "cell_type": "code",
   "execution_count": 20,
   "metadata": {},
   "outputs": [
    {
     "name": "stdout",
     "output_type": "stream",
     "text": [
      "交易年\n",
      "109    123710\n",
      "108    115436\n",
      "111    101989\n",
      "110    101398\n",
      "107    100757\n",
      "106     31905\n",
      "112      6008\n",
      "Name: count, dtype: int64\n"
     ]
    }
   ],
   "source": [
    "newcount = needyear_df['交易年'].value_counts()\n",
    "print(newcount)"
   ]
  },
  {
   "cell_type": "code",
   "execution_count": 21,
   "metadata": {},
   "outputs": [
    {
     "data": {
      "text/plain": [
       "581203"
      ]
     },
     "execution_count": 21,
     "metadata": {},
     "output_type": "execute_result"
    }
   ],
   "source": [
    "len(needyear_df['交易年'])"
   ]
  },
  {
   "attachments": {},
   "cell_type": "markdown",
   "metadata": {},
   "source": [
    "刪除不正常月份資料"
   ]
  },
  {
   "cell_type": "code",
   "execution_count": 22,
   "metadata": {},
   "outputs": [],
   "source": [
    "# 所需月份\n",
    "needmonth = ['01', '02', '03', '04', '05', '06', '07', '08', '09', '10', '11', '12']\n",
    "\n",
    "needmonth_df = needyear_df[needyear_df['交易月'].isin(needmonth)]"
   ]
  },
  {
   "cell_type": "code",
   "execution_count": 23,
   "metadata": {},
   "outputs": [
    {
     "name": "stdout",
     "output_type": "stream",
     "text": [
      "交易月\n",
      "11    55165\n",
      "12    54577\n",
      "03    53488\n",
      "07    52062\n",
      "05    51495\n",
      "10    50910\n",
      "04    50615\n",
      "06    49490\n",
      "08    44371\n",
      "09    43827\n",
      "01    43419\n",
      "02    31779\n",
      "Name: count, dtype: int64\n"
     ]
    }
   ],
   "source": [
    "newcount = needmonth_df['交易月'].value_counts()\n",
    "print(newcount)"
   ]
  },
  {
   "cell_type": "code",
   "execution_count": 24,
   "metadata": {},
   "outputs": [
    {
     "data": {
      "text/plain": [
       "581198"
      ]
     },
     "execution_count": 24,
     "metadata": {},
     "output_type": "execute_result"
    }
   ],
   "source": [
    "len(needmonth_df['交易月'])"
   ]
  },
  {
   "attachments": {},
   "cell_type": "markdown",
   "metadata": {},
   "source": [
    "刪除不正常日"
   ]
  },
  {
   "attachments": {},
   "cell_type": "markdown",
   "metadata": {},
   "source": []
  },
  {
   "cell_type": "code",
   "execution_count": 25,
   "metadata": {},
   "outputs": [],
   "source": [
    "# 所需日期\n",
    "# needday = ['01', '02', '03', '04', '05', '06', '07', '08', '09', '10', \n",
    "#            '11', '12', '13', '14', '15', '16', '17', '18', '19', '20', \n",
    "#            '21', '22', '23', '24', '25', '26', '27', '28', '29', '30', '31']\n",
    "\n",
    "needday = [str(i).zfill(2) for i in range(1, 32)]\n",
    "\n",
    "needday_df = needmonth_df[needmonth_df['交易日'].isin(needday)]"
   ]
  },
  {
   "cell_type": "code",
   "execution_count": 26,
   "metadata": {},
   "outputs": [
    {
     "name": "stdout",
     "output_type": "stream",
     "text": [
      "交易日\n",
      "20    21142\n",
      "15    20788\n",
      "28    20529\n",
      "10    20195\n",
      "18    19965\n",
      "17    19727\n",
      "30    19599\n",
      "12    19434\n",
      "25    19319\n",
      "27    19313\n",
      "23    19270\n",
      "21    19198\n",
      "16    19192\n",
      "05    19086\n",
      "06    19034\n",
      "08    19020\n",
      "07    18941\n",
      "26    18824\n",
      "22    18732\n",
      "11    18626\n",
      "19    18623\n",
      "01    18494\n",
      "24    18426\n",
      "29    18367\n",
      "09    18326\n",
      "13    18206\n",
      "14    17905\n",
      "03    17217\n",
      "02    16935\n",
      "04    16465\n",
      "31    12299\n",
      "Name: count, dtype: int64\n"
     ]
    }
   ],
   "source": [
    "newcount = needday_df['交易日'].value_counts()\n",
    "print(newcount)"
   ]
  },
  {
   "cell_type": "code",
   "execution_count": 27,
   "metadata": {},
   "outputs": [
    {
     "data": {
      "text/plain": [
       "581197"
      ]
     },
     "execution_count": 27,
     "metadata": {},
     "output_type": "execute_result"
    }
   ],
   "source": [
    "len(needday_df['交易日'])"
   ]
  },
  {
   "cell_type": "code",
   "execution_count": 28,
   "metadata": {},
   "outputs": [
    {
     "data": {
      "text/plain": [
       "Index(['鄉鎮市區', '交易標的', '土地位置建物門牌', '土地移轉總面積平方公尺', '都市土地使用分區', '非都市土地使用分區',\n",
       "       '非都市土地使用編定', '交易年月日', '交易筆棟數', '移轉層次', '總樓層數', '建物型態', '主要用途', '主要建材',\n",
       "       '建築完成年月', '建物移轉總面積平方公尺', '建物現況格局-房', '建物現況格局-廳', '建物現況格局-衛',\n",
       "       '建物現況格局-隔間', '有無管理組織', '總價元', '單價元平方公尺', '車位類別', '車位移轉總面積(平方公尺)',\n",
       "       '車位總價元', '備註', '編號', '主建物面積', '附屬建物面積', '陽台面積', '電梯', '移轉編號', '縣市名稱',\n",
       "       '郵遞區號', '交易年', '交易月', '交易日'],\n",
       "      dtype='object')"
      ]
     },
     "execution_count": 28,
     "metadata": {},
     "output_type": "execute_result"
    }
   ],
   "source": [
    "needday_df.columns"
   ]
  },
  {
   "attachments": {},
   "cell_type": "markdown",
   "metadata": {},
   "source": [
    "刪除欄位  (都市土地使用分區、非都市土地使用分區、非都市土地使用編定、移轉編號)"
   ]
  },
  {
   "cell_type": "code",
   "execution_count": 29,
   "metadata": {},
   "outputs": [],
   "source": [
    "# 使用 drop() 方法刪除欄\n",
    "drop_colimn = ['都市土地使用分區', '非都市土地使用分區', '非都市土地使用編定', '移轉編號']\n",
    "\n",
    "df = needday_df.drop(drop_colimn, axis=1)"
   ]
  },
  {
   "cell_type": "code",
   "execution_count": 39,
   "metadata": {},
   "outputs": [],
   "source": [
    "# 將DataFrame匯出為CSV檔案\n",
    "df.to_csv('./csv/dropdata0531.csv', index=False)\n"
   ]
  }
 ],
 "metadata": {
  "kernelspec": {
   "display_name": "base",
   "language": "python",
   "name": "python3"
  },
  "language_info": {
   "codemirror_mode": {
    "name": "ipython",
    "version": 3
   },
   "file_extension": ".py",
   "mimetype": "text/x-python",
   "name": "python",
   "nbconvert_exporter": "python",
   "pygments_lexer": "ipython3",
   "version": "3.11.3"
  },
  "orig_nbformat": 4
 },
 "nbformat": 4,
 "nbformat_minor": 2
}
