{
 "cells": [
  {
   "cell_type": "code",
   "execution_count": 23,
   "metadata": {},
   "outputs": [
    {
     "name": "stderr",
     "output_type": "stream",
     "text": [
      "C:\\Users\\Sylvia\\AppData\\Local\\Temp\\ipykernel_1724\\2361759973.py:3: DtypeWarning: Columns (10) have mixed types. Specify dtype option on import or set low_memory=False.\n",
      "  data = pd.read_csv('./csv/TPdata0610.csv')\n"
     ]
    }
   ],
   "source": [
    "import pandas as pd\n",
    "\n",
    "data = pd.read_csv('./csv/TPdata0610.csv')\n",
    "result1 = pd.read_csv('./csv/房屋經緯度資料/reslut.csv')\n",
    "result2 = pd.read_csv('./csv/房屋經緯度資料/result_0607.csv')\n",
    "result3 = pd.read_csv('./csv/房屋經緯度資料/result_20230608_中山區.csv')\n",
    "result4 = pd.read_csv('./csv/房屋經緯度資料/新的房屋經緯度資料.csv')"
   ]
  },
  {
   "attachments": {},
   "cell_type": "markdown",
   "metadata": {},
   "source": [
    "中山區資料"
   ]
  },
  {
   "cell_type": "code",
   "execution_count": 24,
   "metadata": {},
   "outputs": [],
   "source": [
    "# 中山區資料\n",
    "ZS = data[data['鄉鎮市區'] == '中山區']"
   ]
  },
  {
   "attachments": {},
   "cell_type": "markdown",
   "metadata": {},
   "source": [
    "合併result資料"
   ]
  },
  {
   "cell_type": "code",
   "execution_count": 25,
   "metadata": {},
   "outputs": [],
   "source": [
    "result1.dropna(subset=['latitude'], inplace=True)"
   ]
  },
  {
   "cell_type": "code",
   "execution_count": 26,
   "metadata": {},
   "outputs": [],
   "source": [
    "result = pd.concat([result1, result2, result4])"
   ]
  },
  {
   "cell_type": "code",
   "execution_count": 27,
   "metadata": {},
   "outputs": [],
   "source": [
    "# 刪除重複資料\n",
    "newresult = result.drop_duplicates(subset='編號', keep='last', inplace=False)"
   ]
  },
  {
   "attachments": {},
   "cell_type": "markdown",
   "metadata": {},
   "source": [
    "重新定義index(由'編號'定義)"
   ]
  },
  {
   "cell_type": "code",
   "execution_count": 28,
   "metadata": {},
   "outputs": [
    {
     "name": "stderr",
     "output_type": "stream",
     "text": [
      "C:\\Users\\Sylvia\\AppData\\Local\\Temp\\ipykernel_1724\\1256744265.py:1: SettingWithCopyWarning: \n",
      "A value is trying to be set on a copy of a slice from a DataFrame.\n",
      "Try using .loc[row_indexer,col_indexer] = value instead\n",
      "\n",
      "See the caveats in the documentation: https://pandas.pydata.org/pandas-docs/stable/user_guide/indexing.html#returning-a-view-versus-a-copy\n",
      "  ZS['地址'] = ZS['土地位置建物門牌']\n",
      "C:\\Users\\Sylvia\\AppData\\Local\\Temp\\ipykernel_1724\\1256744265.py:2: SettingWithCopyWarning: \n",
      "A value is trying to be set on a copy of a slice from a DataFrame.\n",
      "Try using .loc[row_indexer,col_indexer] = value instead\n",
      "\n",
      "See the caveats in the documentation: https://pandas.pydata.org/pandas-docs/stable/user_guide/indexing.html#returning-a-view-versus-a-copy\n",
      "  ZS['編號'] = ZS['編號1']\n"
     ]
    }
   ],
   "source": [
    "ZS['地址'] = ZS['土地位置建物門牌']\n",
    "ZS['編號'] = ZS['編號1']"
   ]
  },
  {
   "cell_type": "code",
   "execution_count": 29,
   "metadata": {},
   "outputs": [],
   "source": [
    "ZS1 = ZS.set_index('編號')\n",
    "re1 = newresult.set_index('編號')"
   ]
  },
  {
   "cell_type": "code",
   "execution_count": 30,
   "metadata": {},
   "outputs": [],
   "source": [
    "# 新增經緯度欄位\n",
    "ZS1['latitude'] = None\n",
    "ZS1['longitude'] = None"
   ]
  },
  {
   "cell_type": "code",
   "execution_count": 31,
   "metadata": {},
   "outputs": [],
   "source": [
    "# 將有經緯度資料匯入原檔\n",
    "ZS1.update(re1)"
   ]
  },
  {
   "cell_type": "code",
   "execution_count": 32,
   "metadata": {},
   "outputs": [],
   "source": [
    "# 處理result3只保留三個欄位：欄位1、欄位2和欄位3\n",
    "result3 = result3.loc[:, ['土地位置建物門牌', 'latitude', 'longitude']]"
   ]
  },
  {
   "cell_type": "code",
   "execution_count": 33,
   "metadata": {},
   "outputs": [],
   "source": [
    "newZS = ZS1.set_index('土地位置建物門牌')\n",
    "re3 = result3.set_index('土地位置建物門牌')"
   ]
  },
  {
   "cell_type": "code",
   "execution_count": 34,
   "metadata": {},
   "outputs": [],
   "source": [
    "# 將有經緯度資料匯入原檔\n",
    "newZS.update(re3)"
   ]
  },
  {
   "cell_type": "code",
   "execution_count": 35,
   "metadata": {},
   "outputs": [],
   "source": [
    "# 刪除屋齡欄位\n",
    "dropcolumns = ['建築完成年月','屋齡', '總層數']\n",
    "# 使用drop()函數刪除欄位\n",
    "newZS.drop(dropcolumns, axis=1, inplace=True)"
   ]
  },
  {
   "cell_type": "code",
   "execution_count": 36,
   "metadata": {},
   "outputs": [],
   "source": [
    "# aa = newZS[newZS['latitude'].isnull()]"
   ]
  },
  {
   "cell_type": "code",
   "execution_count": 37,
   "metadata": {},
   "outputs": [],
   "source": [
    "# 將DataFrame匯出為CSV檔案\n",
    "# aa.to_csv('./錯誤資料修正/房屋經緯度空值資料.csv', index=False)"
   ]
  },
  {
   "cell_type": "code",
   "execution_count": 38,
   "metadata": {},
   "outputs": [],
   "source": [
    "newZS.dropna(subset=['latitude'], inplace=True)"
   ]
  },
  {
   "attachments": {},
   "cell_type": "markdown",
   "metadata": {},
   "source": [
    "刪除建築完成日期為空值資料"
   ]
  },
  {
   "cell_type": "code",
   "execution_count": 39,
   "metadata": {},
   "outputs": [],
   "source": [
    "newZS.dropna(subset=['建築完成日期'], inplace=True)"
   ]
  },
  {
   "attachments": {},
   "cell_type": "markdown",
   "metadata": {},
   "source": [
    "分割建築完成日期"
   ]
  },
  {
   "cell_type": "code",
   "execution_count": 40,
   "metadata": {},
   "outputs": [],
   "source": [
    "newZS[['建築完成年', '建築完成月', '建築完成日']] = newZS['建築完成日期'].str.extract('(\\d+)年(\\d+)月(\\d+)日')\n",
    "\n",
    "# newZS[['建築完成年', '建築完成月', '建築完成日']]"
   ]
  },
  {
   "attachments": {},
   "cell_type": "markdown",
   "metadata": {},
   "source": [
    "年分民國轉西元"
   ]
  },
  {
   "cell_type": "code",
   "execution_count": 41,
   "metadata": {},
   "outputs": [],
   "source": [
    "# 換成數字型態\n",
    "newZS['交易年'] = pd.to_numeric(newZS['交易年'],errors = 'coerce')\n",
    "newZS['建築完成年'] = pd.to_numeric(newZS['建築完成年'],errors = 'coerce')\n",
    "\n",
    "# 轉\n",
    "newZS['交易年'] = newZS['交易年'] + 1911\n",
    "newZS['建築完成年'] = newZS['建築完成年'] + 1911"
   ]
  },
  {
   "attachments": {},
   "cell_type": "markdown",
   "metadata": {},
   "source": [
    "交易時屋齡"
   ]
  },
  {
   "cell_type": "code",
   "execution_count": 45,
   "metadata": {},
   "outputs": [],
   "source": [
    "newZS['交易時屋齡'] = newZS['交易年'] - newZS['建築完成年']"
   ]
  },
  {
   "cell_type": "code",
   "execution_count": 52,
   "metadata": {},
   "outputs": [],
   "source": [
    "# 將DataFrame匯出為CSV檔案\n",
    "newZS.to_csv('./csv/Zhongshan_0611.csv', index=False)"
   ]
  },
  {
   "cell_type": "code",
   "execution_count": null,
   "metadata": {},
   "outputs": [],
   "source": []
  },
  {
   "cell_type": "code",
   "execution_count": null,
   "metadata": {},
   "outputs": [],
   "source": []
  },
  {
   "cell_type": "code",
   "execution_count": 48,
   "metadata": {},
   "outputs": [
    {
     "name": "stdout",
     "output_type": "stream",
     "text": [
      "鄉鎮市區                0\n",
      "交易標的                0\n",
      "土地移轉總面積平方公尺         0\n",
      "交易筆棟數               0\n",
      "移轉層次                0\n",
      "總樓層數                0\n",
      "建物型態                0\n",
      "主要用途               49\n",
      "主要建材                1\n",
      "建物移轉總面積平方公尺         0\n",
      "建物現況格局-房            0\n",
      "建物現況格局-廳            0\n",
      "建物現況格局-衛            0\n",
      "建物現況格局-隔間           0\n",
      "有無管理組織              0\n",
      "總價元                 0\n",
      "車位類別             9933\n",
      "車位移轉總面積(平方公尺)       0\n",
      "車位總價元               0\n",
      "備註               6735\n",
      "主建物面積               0\n",
      "附屬建物面積              0\n",
      "陽台面積                0\n",
      "電梯                  0\n",
      "縣市名稱                0\n",
      "郵遞區號                0\n",
      "交易年                 0\n",
      "交易月                 0\n",
      "交易日                 0\n",
      "建物坪數                0\n",
      "index               0\n",
      "編號1                 0\n",
      "建築完成日期              0\n",
      "單坪價格                0\n",
      "地址                  0\n",
      "latitude            0\n",
      "longitude           0\n",
      "建築完成年               0\n",
      "建築完成月               0\n",
      "建築完成日               0\n",
      "交易時屋齡               0\n",
      "dtype: int64\n"
     ]
    }
   ],
   "source": [
    "# 檢查每個欄位是否有空值並計算總數\n",
    "null_counts = newZS.isnull().sum()\n",
    "\n",
    "# 顯示結果\n",
    "print(null_counts)"
   ]
  },
  {
   "cell_type": "code",
   "execution_count": 51,
   "metadata": {},
   "outputs": [],
   "source": [
    "# ww = newZS['移轉層次'].value_counts()"
   ]
  }
 ],
 "metadata": {
  "kernelspec": {
   "display_name": "Python 3",
   "language": "python",
   "name": "python3"
  },
  "language_info": {
   "codemirror_mode": {
    "name": "ipython",
    "version": 3
   },
   "file_extension": ".py",
   "mimetype": "text/x-python",
   "name": "python",
   "nbconvert_exporter": "python",
   "pygments_lexer": "ipython3",
   "version": "3.11.3"
  },
  "orig_nbformat": 4
 },
 "nbformat": 4,
 "nbformat_minor": 2
}
