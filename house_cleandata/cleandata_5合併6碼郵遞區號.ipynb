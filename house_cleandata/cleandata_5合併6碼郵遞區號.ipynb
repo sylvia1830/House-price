{
 "cells": [
  {
   "cell_type": "code",
   "execution_count": 11,
   "metadata": {},
   "outputs": [],
   "source": [
    "import pandas as pd\n",
    "\n",
    "data = pd.read_csv('./csv/Zhongshan_0611.csv')\n",
    "post = pd.read_csv('./csv/郵遞區號6碼/郵遞區號0608.csv')\n",
    "null_post = pd.read_csv('./csv/郵遞區號6碼/空值爬蟲.csv')"
   ]
  },
  {
   "attachments": {},
   "cell_type": "markdown",
   "metadata": {},
   "source": [
    "合併郵遞區號檔案post"
   ]
  },
  {
   "cell_type": "code",
   "execution_count": 12,
   "metadata": {},
   "outputs": [],
   "source": [
    "post1 = pd.concat([post, null_post])"
   ]
  },
  {
   "cell_type": "code",
   "execution_count": 13,
   "metadata": {},
   "outputs": [],
   "source": [
    "# 刪除重複資料\n",
    "post = post1.drop_duplicates(subset='地址', keep='first', inplace=False)"
   ]
  },
  {
   "cell_type": "code",
   "execution_count": 14,
   "metadata": {},
   "outputs": [],
   "source": [
    "# 將'郵遞區號'欄位名稱改為'郵遞區號6碼'\n",
    "post = post.rename(columns={'郵遞區號': '郵遞區號6碼'})"
   ]
  },
  {
   "cell_type": "code",
   "execution_count": 15,
   "metadata": {},
   "outputs": [],
   "source": [
    "# 新增經緯度欄位\n",
    "data['郵遞區號6碼'] = None\n",
    "data['土地位置建物門牌'] = data['地址']"
   ]
  },
  {
   "cell_type": "code",
   "execution_count": 16,
   "metadata": {},
   "outputs": [],
   "source": [
    "df = data.set_index('地址')\n",
    "po = post.set_index('地址')"
   ]
  },
  {
   "cell_type": "code",
   "execution_count": 17,
   "metadata": {},
   "outputs": [],
   "source": [
    "# 將有經緯度資料匯入原檔\n",
    "df.update(po)"
   ]
  },
  {
   "cell_type": "code",
   "execution_count": 18,
   "metadata": {},
   "outputs": [],
   "source": [
    "# 將DataFrame匯出為CSV檔案\n",
    "df.to_csv('./csv/Zhongshan_0611_2.csv', index=False)"
   ]
  },
  {
   "cell_type": "code",
   "execution_count": null,
   "metadata": {},
   "outputs": [],
   "source": []
  },
  {
   "cell_type": "code",
   "execution_count": 19,
   "metadata": {},
   "outputs": [
    {
     "data": {
      "text/plain": [
       "交易年\n",
       "2020    3040\n",
       "2021    2993\n",
       "2019    2623\n",
       "2022    2431\n",
       "2018    2248\n",
       "2017     647\n",
       "2023     176\n",
       "Name: count, dtype: int64"
      ]
     },
     "execution_count": 19,
     "metadata": {},
     "output_type": "execute_result"
    }
   ],
   "source": [
    "df['交易年'].value_counts()"
   ]
  },
  {
   "cell_type": "code",
   "execution_count": 20,
   "metadata": {},
   "outputs": [
    {
     "name": "stdout",
     "output_type": "stream",
     "text": [
      "鄉鎮市區                0\n",
      "交易標的                0\n",
      "土地移轉總面積平方公尺         0\n",
      "交易筆棟數               0\n",
      "移轉層次                0\n",
      "總樓層數                0\n",
      "建物型態                0\n",
      "主要用途               49\n",
      "主要建材                1\n",
      "建物移轉總面積平方公尺         0\n",
      "建物現況格局-房            0\n",
      "建物現況格局-廳            0\n",
      "建物現況格局-衛            0\n",
      "建物現況格局-隔間           0\n",
      "有無管理組織              0\n",
      "總價元                 0\n",
      "車位類別             9933\n",
      "車位移轉總面積(平方公尺)       0\n",
      "車位總價元               0\n",
      "備註               6735\n",
      "主建物面積               0\n",
      "附屬建物面積              0\n",
      "陽台面積                0\n",
      "電梯                  0\n",
      "縣市名稱                0\n",
      "郵遞區號                0\n",
      "交易年                 0\n",
      "交易月                 0\n",
      "交易日                 0\n",
      "建物坪數                0\n",
      "index               0\n",
      "編號1                 0\n",
      "建築完成日期              0\n",
      "單坪價格                0\n",
      "latitude            0\n",
      "longitude           0\n",
      "建築完成年               0\n",
      "建築完成月               0\n",
      "建築完成日               0\n",
      "交易時屋齡               0\n",
      "郵遞區號6碼           8226\n",
      "土地位置建物門牌            0\n",
      "dtype: int64\n"
     ]
    }
   ],
   "source": [
    "# 檢查每個欄位是否有空值並計算總數\n",
    "null_counts = df.isnull().sum()\n",
    "\n",
    "# # 顯示結果\n",
    "print(null_counts)"
   ]
  }
 ],
 "metadata": {
  "kernelspec": {
   "display_name": "Python 3",
   "language": "python",
   "name": "python3"
  },
  "language_info": {
   "codemirror_mode": {
    "name": "ipython",
    "version": 3
   },
   "file_extension": ".py",
   "mimetype": "text/x-python",
   "name": "python",
   "nbconvert_exporter": "python",
   "pygments_lexer": "ipython3",
   "version": "3.11.3"
  },
  "orig_nbformat": 4
 },
 "nbformat": 4,
 "nbformat_minor": 2
}
