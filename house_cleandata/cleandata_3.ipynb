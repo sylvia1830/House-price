{
 "cells": [
  {
   "cell_type": "code",
   "execution_count": 1,
   "metadata": {},
   "outputs": [
    {
     "name": "stderr",
     "output_type": "stream",
     "text": [
      "C:\\Users\\Sylvia\\AppData\\Local\\Temp\\ipykernel_848\\3028537813.py:5: DtypeWarning: Columns (10) have mixed types. Specify dtype option on import or set low_memory=False.\n",
      "  df=pd.read_csv('./csv/newdata0531.csv')\n",
      "C:\\Users\\Sylvia\\AppData\\Local\\Temp\\ipykernel_848\\3028537813.py:6: DtypeWarning: Columns (8) have mixed types. Specify dtype option on import or set low_memory=False.\n",
      "  build_data=pd.read_csv('./csv/build.csv')\n"
     ]
    }
   ],
   "source": [
    "import pandas as pd\n",
    "import datetime\n",
    "\n",
    "\n",
    "df=pd.read_csv('./csv/newdata0531.csv')\n",
    "build_data=pd.read_csv('./csv/build.csv')"
   ]
  },
  {
   "cell_type": "code",
   "execution_count": 2,
   "metadata": {},
   "outputs": [],
   "source": [
    "# 刪除重複資料\n",
    "newdata = df.drop_duplicates(subset='編號', keep='first', inplace=False)\n",
    "newbuild = build_data.drop_duplicates(subset='編號', keep='first', inplace=False)"
   ]
  },
  {
   "attachments": {},
   "cell_type": "markdown",
   "metadata": {},
   "source": [
    "新增index欄位 =原本index "
   ]
  },
  {
   "cell_type": "code",
   "execution_count": 3,
   "metadata": {},
   "outputs": [
    {
     "name": "stderr",
     "output_type": "stream",
     "text": [
      "C:\\Users\\Sylvia\\AppData\\Local\\Temp\\ipykernel_848\\1810874272.py:1: SettingWithCopyWarning: \n",
      "A value is trying to be set on a copy of a slice from a DataFrame.\n",
      "Try using .loc[row_indexer,col_indexer] = value instead\n",
      "\n",
      "See the caveats in the documentation: https://pandas.pydata.org/pandas-docs/stable/user_guide/indexing.html#returning-a-view-versus-a-copy\n",
      "  newdata['index'] = newdata.index\n",
      "C:\\Users\\Sylvia\\AppData\\Local\\Temp\\ipykernel_848\\1810874272.py:2: SettingWithCopyWarning: \n",
      "A value is trying to be set on a copy of a slice from a DataFrame.\n",
      "Try using .loc[row_indexer,col_indexer] = value instead\n",
      "\n",
      "See the caveats in the documentation: https://pandas.pydata.org/pandas-docs/stable/user_guide/indexing.html#returning-a-view-versus-a-copy\n",
      "  newdata['編號1'] = newdata['編號']\n"
     ]
    }
   ],
   "source": [
    "newdata['index'] = newdata.index\n",
    "newdata['編號1'] = newdata['編號']"
   ]
  },
  {
   "attachments": {},
   "cell_type": "markdown",
   "metadata": {},
   "source": [
    "重新定義index(由'編號'定義)"
   ]
  },
  {
   "cell_type": "code",
   "execution_count": 4,
   "metadata": {},
   "outputs": [],
   "source": [
    "newdata_1 = newdata.set_index('編號')\n",
    "newbuild_1 = newbuild.set_index('編號')"
   ]
  },
  {
   "attachments": {},
   "cell_type": "markdown",
   "metadata": {},
   "source": [
    "資料合併"
   ]
  },
  {
   "cell_type": "code",
   "execution_count": 5,
   "metadata": {},
   "outputs": [],
   "source": [
    "# 新增所需欄位\n",
    "newdata_1['屋齡'] = None\n",
    "newdata_1['建築完成日期'] = None\n",
    "newdata_1['總層數'] = None"
   ]
  },
  {
   "cell_type": "code",
   "execution_count": 6,
   "metadata": {},
   "outputs": [],
   "source": [
    "# 將有所需資料匯入原檔\n",
    "newdata_1.update(newbuild_1)"
   ]
  },
  {
   "attachments": {},
   "cell_type": "markdown",
   "metadata": {},
   "source": [
    "新增單坪價格column"
   ]
  },
  {
   "cell_type": "code",
   "execution_count": 7,
   "metadata": {},
   "outputs": [],
   "source": [
    "# 新增單坪價格欄位\n",
    "newdata_1['單坪價格'] = newdata_1['總價元'] / newdata_1['建物坪數']"
   ]
  },
  {
   "cell_type": "code",
   "execution_count": 8,
   "metadata": {},
   "outputs": [],
   "source": [
    "# 刪除'單價元平方公尺'\n",
    "newdata_1 = newdata_1.drop('單價元平方公尺', axis=1)"
   ]
  },
  {
   "attachments": {},
   "cell_type": "markdown",
   "metadata": {},
   "source": [
    "刪除欄位"
   ]
  },
  {
   "cell_type": "code",
   "execution_count": 9,
   "metadata": {},
   "outputs": [],
   "source": [
    "# 指定要刪除的欄位\n",
    "dropcolumns = ['里', '交易座標橫坐標', '交易座標綜座標']\n",
    "\n",
    "# 使用drop()函數刪除欄位\n",
    "newdata_1.drop(dropcolumns, axis=1, inplace=True)"
   ]
  },
  {
   "attachments": {},
   "cell_type": "markdown",
   "metadata": {},
   "source": [
    "只保留 住宅大樓、華廈、公寓、套房、透天厝"
   ]
  },
  {
   "cell_type": "code",
   "execution_count": 10,
   "metadata": {},
   "outputs": [],
   "source": [
    "valid_types = ['住宅大樓(11層含以上有電梯)', '華廈(10層含以下有電梯)', '公寓(5樓含以下無電梯)', '套房(1房1廳1衛)', '透天厝']\n",
    "newdata_1 = newdata_1[newdata_1['建物型態'].isin(valid_types)]"
   ]
  },
  {
   "attachments": {},
   "cell_type": "markdown",
   "metadata": {},
   "source": [
    "只有台北市資料"
   ]
  },
  {
   "cell_type": "code",
   "execution_count": 11,
   "metadata": {},
   "outputs": [
    {
     "data": {
      "text/plain": [
       "縣市名稱\n",
       "新北市    231438\n",
       "桃園市    181414\n",
       "台北市    105600\n",
       "基隆市     23789\n",
       "Name: count, dtype: int64"
      ]
     },
     "execution_count": 11,
     "metadata": {},
     "output_type": "execute_result"
    }
   ],
   "source": [
    "newdata_1['縣市名稱'].value_counts()"
   ]
  },
  {
   "cell_type": "code",
   "execution_count": 12,
   "metadata": {},
   "outputs": [],
   "source": [
    "TP = newdata_1[newdata_1['縣市名稱'] == '台北市']"
   ]
  },
  {
   "cell_type": "code",
   "execution_count": 13,
   "metadata": {},
   "outputs": [
    {
     "name": "stderr",
     "output_type": "stream",
     "text": [
      "C:\\Users\\Sylvia\\AppData\\Local\\Temp\\ipykernel_848\\1970215278.py:2: SettingWithCopyWarning: \n",
      "A value is trying to be set on a copy of a slice from a DataFrame.\n",
      "Try using .loc[row_indexer,col_indexer] = value instead\n",
      "\n",
      "See the caveats in the documentation: https://pandas.pydata.org/pandas-docs/stable/user_guide/indexing.html#returning-a-view-versus-a-copy\n",
      "  TP['總價(萬元)'] = TP['總價元'].apply(lambda x: round(x * 0.0001, 1))\n",
      "C:\\Users\\Sylvia\\AppData\\Local\\Temp\\ipykernel_848\\1970215278.py:3: SettingWithCopyWarning: \n",
      "A value is trying to be set on a copy of a slice from a DataFrame.\n",
      "Try using .loc[row_indexer,col_indexer] = value instead\n",
      "\n",
      "See the caveats in the documentation: https://pandas.pydata.org/pandas-docs/stable/user_guide/indexing.html#returning-a-view-versus-a-copy\n",
      "  TP['單坪價格(萬元)'] = TP['單坪價格'].apply(lambda x: round(x * 0.0001, 1))\n"
     ]
    }
   ],
   "source": [
    "# 總價及單坪價格取到萬元\n",
    "TP['總價(萬元)'] = TP['總價元'].apply(lambda x: round(x * 0.0001, 1))\n",
    "TP['單坪價格(萬元)'] = TP['單坪價格'].apply(lambda x: round(x * 0.0001, 1))"
   ]
  },
  {
   "cell_type": "code",
   "execution_count": 14,
   "metadata": {},
   "outputs": [],
   "source": [
    "# 將DataFrame匯出為CSV檔案\n",
    "TP.to_csv('./csv/TPdata0612.csv', index=False)"
   ]
  },
  {
   "cell_type": "code",
   "execution_count": null,
   "metadata": {},
   "outputs": [],
   "source": []
  }
 ],
 "metadata": {
  "kernelspec": {
   "display_name": "Python 3",
   "language": "python",
   "name": "python3"
  },
  "language_info": {
   "codemirror_mode": {
    "name": "ipython",
    "version": 3
   },
   "file_extension": ".py",
   "mimetype": "text/x-python",
   "name": "python",
   "nbconvert_exporter": "python",
   "pygments_lexer": "ipython3",
   "version": "3.11.3"
  },
  "orig_nbformat": 4
 },
 "nbformat": 4,
 "nbformat_minor": 2
}
