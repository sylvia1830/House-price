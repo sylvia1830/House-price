{
 "cells": [
  {
   "cell_type": "code",
   "execution_count": 1,
   "metadata": {},
   "outputs": [
    {
     "name": "stderr",
     "output_type": "stream",
     "text": [
      "C:\\Users\\Sylvia\\AppData\\Local\\Temp\\ipykernel_9404\\764765842.py:3: DtypeWarning: Columns (10,27) have mixed types. Specify dtype option on import or set low_memory=False.\n",
      "  data=pd.read_csv('./csv/data0531.csv')\n"
     ]
    }
   ],
   "source": [
    "import pandas as pd\n",
    "\n",
    "data=pd.read_csv('./csv/data0531.csv')"
   ]
  },
  {
   "cell_type": "code",
   "execution_count": 40,
   "metadata": {},
   "outputs": [],
   "source": [
    "data = data.drop(['緯度', '經度'], axis=1)"
   ]
  },
  {
   "cell_type": "code",
   "execution_count": 41,
   "metadata": {},
   "outputs": [
    {
     "data": {
      "text/plain": [
       "Index(['鄉鎮市區', '交易標的', '土地位置建物門牌', '土地移轉總面積平方公尺', '交易筆棟數', '移轉層次', '總樓層數',\n",
       "       '建物型態', '主要用途', '主要建材', '建築完成年月', '建物移轉總面積平方公尺', '建物現況格局-房', '建物現況格局-廳',\n",
       "       '建物現況格局-衛', '建物現況格局-隔間', '有無管理組織', '總價元', '單價元平方公尺', '車位類別',\n",
       "       '車位移轉總面積(平方公尺)', '車位總價元', '備註', '編號', '主建物面積', '附屬建物面積', '陽台面積', '電梯',\n",
       "       '縣市名稱', '郵遞區號', '交易年', '交易月', '交易日', '里', '交易座標橫坐標', '交易座標綜座標'],\n",
       "      dtype='object')"
      ]
     },
     "execution_count": 41,
     "metadata": {},
     "output_type": "execute_result"
    }
   ],
   "source": [
    "data.columns"
   ]
  },
  {
   "attachments": {},
   "cell_type": "markdown",
   "metadata": {},
   "source": [
    "增加建物坪數column"
   ]
  },
  {
   "cell_type": "code",
   "execution_count": 42,
   "metadata": {},
   "outputs": [],
   "source": [
    "# 建物坪數計算\n",
    "data['建物坪數'] = data['建物移轉總面積平方公尺'].apply(lambda x:x*0.3025)\n"
   ]
  },
  {
   "attachments": {},
   "cell_type": "markdown",
   "metadata": {},
   "source": [
    "總樓層數補空值"
   ]
  },
  {
   "cell_type": "code",
   "execution_count": 43,
   "metadata": {},
   "outputs": [
    {
     "name": "stdout",
     "output_type": "stream",
     "text": [
      "總樓層數\n",
      "五層         73579\n",
      "十五層        67705\n",
      "四層         55841\n",
      "十四層        48047\n",
      "十二層        40357\n",
      "七層         34892\n",
      "十三層        31962\n",
      "二層         19861\n",
      "十層         19405\n",
      "十一層        18694\n",
      "九層         15510\n",
      "十九層        14483\n",
      "三層         13597\n",
      "八層         13097\n",
      "六層         11899\n",
      "十八層        11232\n",
      "二十四層       10223\n",
      "二十三層        9628\n",
      "十六層         9024\n",
      "十七層         9020\n",
      "二十一層        8254\n",
      "二十二層        8103\n",
      "二十層         5947\n",
      "二十九層        4505\n",
      "二十八層        4354\n",
      "二十五層        4136\n",
      "二十六層        3975\n",
      "二十七層        3714\n",
      "一層          3244\n",
      "三十二層         969\n",
      "三十七層         805\n",
      "三十層          735\n",
      "三十六層         717\n",
      "三十三層         642\n",
      "三十一層         576\n",
      "三十五層         515\n",
      "四十一層         495\n",
      "三十四層         319\n",
      "四十二層         199\n",
      "四十層          186\n",
      "三十八層         182\n",
      "四十三層         117\n",
      "四十六層          21\n",
      "000           12\n",
      "見其他登記事項        2\n",
      "Name: count, dtype: int64\n"
     ]
    }
   ],
   "source": [
    "count = data['總樓層數'].value_counts()\n",
    "print(count)"
   ]
  },
  {
   "cell_type": "code",
   "execution_count": 44,
   "metadata": {},
   "outputs": [],
   "source": [
    "# 補空值\n",
    "data.loc[157677,'總樓層數'] = '三層'\n",
    "data.loc[212716,'總樓層數'] = '三層'\n",
    "\n",
    "# 000\n",
    "data.loc[8002,'總樓層數'] = '五層'\n",
    "data.loc[11245,'總樓層數'] = '四層'\n",
    "data.loc[28688,'總樓層數'] = '四層'\n",
    "data.loc[38052,'總樓層數'] = '三層'\n",
    "data.loc[97356,'總樓層數'] = '五層'\n",
    "data.loc[133769,'總樓層數'] = '二層'\n",
    "data.loc[141061,'總樓層數'] = '三層'\n",
    "data.loc[178339,'總樓層數'] = '三層'\n",
    "data.loc[270040,'總樓層數'] = '三層'\n",
    "data.loc[316778,'總樓層數'] = '四層'\n"
   ]
  },
  {
   "cell_type": "code",
   "execution_count": 45,
   "metadata": {},
   "outputs": [
    {
     "data": {
      "text/plain": [
       "鄉鎮市區                             中正區\n",
       "交易標的                       房地(土地+建物)\n",
       "土地位置建物門牌                正義路２巷４７之２號四樓\n",
       "土地移轉總面積平方公尺                    29.78\n",
       "交易筆棟數                      土地5建物1車位0\n",
       "移轉層次                            地下二層\n",
       "總樓層數                              四層\n",
       "建物型態                    公寓(5樓含以下無電梯)\n",
       "主要用途                             住家用\n",
       "主要建材                          鋼筋混凝土造\n",
       "建築完成年月                      740126.0\n",
       "建物移轉總面積平方公尺                   119.01\n",
       "建物現況格局-房                           5\n",
       "建物現況格局-廳                           0\n",
       "建物現況格局-衛                           5\n",
       "建物現況格局-隔間                          有\n",
       "有無管理組織                             無\n",
       "總價元                          3770000\n",
       "單價元平方公尺                      31678.0\n",
       "車位類別                             NaN\n",
       "車位移轉總面積(平方公尺)                    0.0\n",
       "車位總價元                              0\n",
       "備註                               NaN\n",
       "編號               RPXNMLKMKIPFFBC48DA\n",
       "主建物面積                         103.08\n",
       "附屬建物面積                           0.0\n",
       "陽台面積                           15.93\n",
       "電梯                                 無\n",
       "縣市名稱                             基隆市\n",
       "郵遞區號                             202\n",
       "交易年                              109\n",
       "交易月                               12\n",
       "交易日                               22\n",
       "里                                NaN\n",
       "交易座標橫坐標                          NaN\n",
       "交易座標綜座標                          NaN\n",
       "建物坪數                       36.000525\n",
       "Name: 316778, dtype: object"
      ]
     },
     "execution_count": 45,
     "metadata": {},
     "output_type": "execute_result"
    }
   ],
   "source": [
    "data.loc[316778]"
   ]
  },
  {
   "cell_type": "code",
   "execution_count": 46,
   "metadata": {},
   "outputs": [],
   "source": [
    "# 篩選特定資料\n",
    "filtered_data = data[data['總樓層數'] == '000']"
   ]
  },
  {
   "cell_type": "code",
   "execution_count": 47,
   "metadata": {},
   "outputs": [],
   "source": [
    "# 刪除(工廠，資料不符合)\n",
    "dd = data.drop(index=[417873, 525291])\n",
    "# dd.info()"
   ]
  },
  {
   "cell_type": "code",
   "execution_count": 48,
   "metadata": {},
   "outputs": [
    {
     "name": "stdout",
     "output_type": "stream",
     "text": [
      "417\n"
     ]
    }
   ],
   "source": [
    "# 方法1: 使用isnull()函式找出空值\n",
    "null_values = dd[dd['總樓層數'].isnull()]\n",
    "\n",
    "print(len(null_values))"
   ]
  },
  {
   "attachments": {},
   "cell_type": "markdown",
   "metadata": {},
   "source": [
    "電梯欄位補空值"
   ]
  },
  {
   "cell_type": "code",
   "execution_count": 49,
   "metadata": {},
   "outputs": [
    {
     "data": {
      "text/plain": [
       "255321"
      ]
     },
     "execution_count": 49,
     "metadata": {},
     "output_type": "execute_result"
    }
   ],
   "source": [
    "# 電梯為空值的所有資料\n",
    "ee = dd[dd['電梯'].isnull()]\n",
    "len(ee['電梯'])"
   ]
  },
  {
   "cell_type": "code",
   "execution_count": 51,
   "metadata": {},
   "outputs": [],
   "source": [
    "# 將符合條件的'電梯'欄位填充為'無'\n",
    "ee.loc[ee['總樓層數'].isin(['一層', '二層', '三層', '四層', '五層']), '電梯'] = '無'"
   ]
  },
  {
   "cell_type": "code",
   "execution_count": 52,
   "metadata": {},
   "outputs": [
    {
     "data": {
      "text/plain": [
       "181027"
      ]
     },
     "execution_count": 52,
     "metadata": {},
     "output_type": "execute_result"
    }
   ],
   "source": [
    "null_values = ee[ee['電梯'].isnull()]\n",
    "len(null_values)"
   ]
  },
  {
   "cell_type": "code",
   "execution_count": 53,
   "metadata": {},
   "outputs": [
    {
     "name": "stderr",
     "output_type": "stream",
     "text": [
      "C:\\Users\\Sylvia\\AppData\\Local\\Temp\\ipykernel_4992\\2640449466.py:2: SettingWithCopyWarning: \n",
      "A value is trying to be set on a copy of a slice from a DataFrame.\n",
      "Try using .loc[row_indexer,col_indexer] = value instead\n",
      "\n",
      "See the caveats in the documentation: https://pandas.pydata.org/pandas-docs/stable/user_guide/indexing.html#returning-a-view-versus-a-copy\n",
      "  ee['電梯'] = ee['電梯'].fillna('有')\n"
     ]
    }
   ],
   "source": [
    "#剩餘空值補有 \n",
    "ee['電梯'] = ee['電梯'].fillna('有')"
   ]
  },
  {
   "cell_type": "code",
   "execution_count": 54,
   "metadata": {},
   "outputs": [
    {
     "name": "stdout",
     "output_type": "stream",
     "text": [
      "電梯\n",
      "有    181027\n",
      "無     74294\n",
      "Name: count, dtype: int64\n"
     ]
    }
   ],
   "source": [
    "count_ee = ee['電梯'].value_counts()\n",
    "print(count_ee)"
   ]
  },
  {
   "cell_type": "code",
   "execution_count": 55,
   "metadata": {},
   "outputs": [],
   "source": [
    "# 將dd中和ee相同的資料使用ee資料取代\n",
    "# dd:原資料，ee:電梯補好空值資料\n",
    "dd.update(ee)"
   ]
  },
  {
   "cell_type": "code",
   "execution_count": 57,
   "metadata": {},
   "outputs": [
    {
     "name": "stdout",
     "output_type": "stream",
     "text": [
      "<class 'pandas.core.frame.DataFrame'>\n",
      "Index: 581195 entries, 0 to 581196\n",
      "Data columns (total 37 columns):\n",
      " #   Column         Non-Null Count   Dtype  \n",
      "---  ------         --------------   -----  \n",
      " 0   鄉鎮市區           581195 non-null  object \n",
      " 1   交易標的           581195 non-null  object \n",
      " 2   土地位置建物門牌       581195 non-null  object \n",
      " 3   土地移轉總面積平方公尺    581195 non-null  float64\n",
      " 4   交易筆棟數          581195 non-null  object \n",
      " 5   移轉層次           580845 non-null  object \n",
      " 6   總樓層數           580778 non-null  object \n",
      " 7   建物型態           581195 non-null  object \n",
      " 8   主要用途           577890 non-null  object \n",
      " 9   主要建材           580899 non-null  object \n",
      " 10  建築完成年月         563834 non-null  object \n",
      " 11  建物移轉總面積平方公尺    581195 non-null  float64\n",
      " 12  建物現況格局-房       581195 non-null  int64  \n",
      " 13  建物現況格局-廳       581195 non-null  int64  \n",
      " 14  建物現況格局-衛       581195 non-null  int64  \n",
      " 15  建物現況格局-隔間      581195 non-null  object \n",
      " 16  有無管理組織         581195 non-null  object \n",
      " 17  總價元            581195 non-null  int64  \n",
      " 18  單價元平方公尺        579977 non-null  float64\n",
      " 19  車位類別           286495 non-null  object \n",
      " 20  車位移轉總面積(平方公尺)  581195 non-null  float64\n",
      " 21  車位總價元          581195 non-null  int64  \n",
      " 22  備註             261174 non-null  object \n",
      " 23  編號             581195 non-null  object \n",
      " 24  主建物面積          581195 non-null  float64\n",
      " 25  附屬建物面積         581195 non-null  float64\n",
      " 26  陽台面積           581195 non-null  float64\n",
      " 27  電梯             581195 non-null  object \n",
      " 28  縣市名稱           581195 non-null  object \n",
      " 29  郵遞區號           581195 non-null  int64  \n",
      " 30  交易年            581195 non-null  int64  \n",
      " 31  交易月            581195 non-null  int64  \n",
      " 32  交易日            581195 non-null  int64  \n",
      " 33  里              0 non-null       float64\n",
      " 34  交易座標橫坐標        0 non-null       float64\n",
      " 35  交易座標綜座標        0 non-null       float64\n",
      " 36  建物坪數           581195 non-null  float64\n",
      "dtypes: float64(11), int64(9), object(17)\n",
      "memory usage: 168.5+ MB\n"
     ]
    }
   ],
   "source": [
    "dd.info()"
   ]
  },
  {
   "cell_type": "code",
   "execution_count": 58,
   "metadata": {},
   "outputs": [],
   "source": [
    "# 將DataFrame匯出為CSV檔案\n",
    "dd.to_csv('./csv/newdata0531.csv', index=False)\n"
   ]
  }
 ],
 "metadata": {
  "kernelspec": {
   "display_name": "base",
   "language": "python",
   "name": "python3"
  },
  "language_info": {
   "codemirror_mode": {
    "name": "ipython",
    "version": 3
   },
   "file_extension": ".py",
   "mimetype": "text/x-python",
   "name": "python",
   "nbconvert_exporter": "python",
   "pygments_lexer": "ipython3",
   "version": "3.11.3"
  },
  "orig_nbformat": 4
 },
 "nbformat": 4,
 "nbformat_minor": 2
}
