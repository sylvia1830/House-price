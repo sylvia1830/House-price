{
 "cells": [
  {
   "attachments": {},
   "cell_type": "markdown",
   "id": "3452ecf3",
   "metadata": {},
   "source": [
    "# 路名切片"
   ]
  },
  {
   "cell_type": "code",
   "execution_count": 1,
   "id": "49c30833",
   "metadata": {},
   "outputs": [],
   "source": [
    "import pandas as pd\n",
    "\n",
    "# 讀取CSV文件\n",
    "df = pd.read_csv('./csv/中山區完整資料加距離.csv')\n",
    "\n",
    "# 新增 '路名' 欄位\n",
    "df['路名'] = ''\n",
    "\n",
    "# 逐行處理地址欄位\n",
    "for index, row in df.iterrows():\n",
    "    address = row['土地位置建物門牌']\n",
    "\n",
    "    # 尋找 '區' 或 '市' 的位置\n",
    "    district_index = address.find('區')\n",
    "    city_index = address.find('市')\n",
    "\n",
    "    # 尋找 '路'、'段'、'街'、'巷'、'道' 的位置\n",
    "    road_index = address.find('路')\n",
    "    section_index = address.find('段')\n",
    "    street_index = address.find('街')\n",
    "    # alley_index = address.find('巷')\n",
    "    road2_index = address.find('道')\n",
    "\n",
    "    # 找到最後出現的標誌位置, alley_index\n",
    "    last_index = max(road_index, section_index, street_index, road2_index)\n",
    "\n",
    "    # 切片並另存 '路名' 欄位\n",
    "    if district_index != -1 and last_index != -1:\n",
    "        df.at[index, '路名'] = address[district_index + 1:last_index + 1]\n",
    "    elif city_index != -1 and last_index != -1:\n",
    "        df.at[index, '路名'] = address[city_index + 1:last_index + 1]\n",
    "    elif last_index != -1:\n",
    "        df.at[index, '路名'] = address[:last_index + 1]\n",
    "\n",
    "\n",
    "\n",
    "# print(df.head(5))"
   ]
  },
  {
   "cell_type": "code",
   "execution_count": 2,
   "id": "df73afa1",
   "metadata": {},
   "outputs": [],
   "source": [
    "# 整理錯誤值\n",
    "df.loc[898,'路名'] = '松江路'\n",
    "df.loc[501,'路名'] = '中山北路'\n",
    "df.loc[5667,'路名'] = '農安街'\n",
    "df.loc[5023,'路名'] = '遼寧街'\n",
    "df.loc[2031,'路名'] = '錦州街'\n",
    "df.loc[5172,'路名'] = '林森北路'\n",
    "df.loc[1055,'路名'] = '龍江路'\n",
    "df.loc[974,'路名'] = '中山北路'\n",
    "df.loc[4853,'路名'] = '林森北路'\n",
    "df.loc[4652,'路名'] = '中原街'"
   ]
  },
  {
   "attachments": {},
   "cell_type": "markdown",
   "id": "6d10dd0d",
   "metadata": {},
   "source": [
    "房屋總價、單坪價格換算成 (萬元)"
   ]
  },
  {
   "cell_type": "code",
   "execution_count": 3,
   "id": "31fa5413",
   "metadata": {},
   "outputs": [],
   "source": [
    "df['總價(萬元)'] = df['總價元'].apply(lambda x: round(x * 0.0001, 1))\n",
    "df['單坪價格(萬元)'] = df['單坪價格'].apply(lambda x: round(x * 0.0001, 1))"
   ]
  },
  {
   "attachments": {},
   "cell_type": "markdown",
   "id": "c1534969",
   "metadata": {},
   "source": [
    "刪除不正常交易時屋齡"
   ]
  },
  {
   "cell_type": "code",
   "execution_count": 4,
   "id": "ecec1305",
   "metadata": {},
   "outputs": [],
   "source": [
    "df = df[df['交易時屋齡'] >= 0]"
   ]
  },
  {
   "cell_type": "code",
   "execution_count": 5,
   "id": "c81cb94a",
   "metadata": {},
   "outputs": [],
   "source": [
    "# 將結果寫入新的CSV文件\n",
    "df.to_csv('./csv/中山區完整資料_0611.csv', index=False)"
   ]
  }
 ],
 "metadata": {
  "kernelspec": {
   "display_name": "Python 3 (ipykernel)",
   "language": "python",
   "name": "python3"
  },
  "language_info": {
   "codemirror_mode": {
    "name": "ipython",
    "version": 3
   },
   "file_extension": ".py",
   "mimetype": "text/x-python",
   "name": "python",
   "nbconvert_exporter": "python",
   "pygments_lexer": "ipython3",
   "version": "3.11.3"
  }
 },
 "nbformat": 4,
 "nbformat_minor": 5
}
