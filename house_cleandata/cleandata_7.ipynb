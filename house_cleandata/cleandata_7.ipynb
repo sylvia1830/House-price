{
 "cells": [
  {
   "cell_type": "code",
   "execution_count": 1,
   "metadata": {},
   "outputs": [],
   "source": [
    "import pandas as pd\n",
    "\n",
    "df = pd.read_csv('./csv/中山區完整資料_0611.csv')"
   ]
  },
  {
   "attachments": {},
   "cell_type": "markdown",
   "metadata": {},
   "source": [
    "補上車位有無欄位"
   ]
  },
  {
   "cell_type": "code",
   "execution_count": 2,
   "metadata": {},
   "outputs": [
    {
     "name": "stderr",
     "output_type": "stream",
     "text": [
      "C:\\Users\\Sylvia\\AppData\\Local\\Temp\\ipykernel_22388\\1087556437.py:3: SettingWithCopyWarning: \n",
      "A value is trying to be set on a copy of a slice from a DataFrame.\n",
      "Try using .loc[row_indexer,col_indexer] = value instead\n",
      "\n",
      "See the caveats in the documentation: https://pandas.pydata.org/pandas-docs/stable/user_guide/indexing.html#returning-a-view-versus-a-copy\n",
      "  carpark_data['車位有無'] = '有'\n"
     ]
    }
   ],
   "source": [
    "# 篩出有車位資料，並新增欄位填入有\n",
    "carpark_data = df[df['交易標的'].str.contains('車位')]\n",
    "carpark_data['車位有無'] = '有'\n",
    "\n",
    "df['車位有無'] = None\n",
    "\n",
    "# 相同資料用carpark_data取代\n",
    "df.update(carpark_data)\n",
    "\n",
    "# 將空值資料補無\n",
    "df['車位有無'] = df['車位有無'].fillna('無')"
   ]
  },
  {
   "cell_type": "markdown",
   "metadata": {},
   "source": [
    "建物坪數只保留到小數點後2位"
   ]
  },
  {
   "cell_type": "code",
   "execution_count": 3,
   "metadata": {},
   "outputs": [],
   "source": [
    "# 保留到小數點後第二位\n",
    "df['建物坪數'] = df['建物坪數'].round(2)\n"
   ]
  },
  {
   "cell_type": "markdown",
   "metadata": {},
   "source": [
    "刪除奇怪的移轉層次"
   ]
  },
  {
   "cell_type": "code",
   "execution_count": 4,
   "metadata": {},
   "outputs": [],
   "source": [
    "zz = df['移轉層次'].value_counts()"
   ]
  },
  {
   "cell_type": "code",
   "execution_count": 5,
   "metadata": {},
   "outputs": [],
   "source": [
    "drop_data = ['地下一層','地下一層，見其他登記事項',\n",
    "             '地下二層','地下五層','地下層','夾層',\n",
    "             '屋頂突出物','見使用執照','防空避難室',\n",
    "             '防空避難室，地下層',\n",
    "             '電梯樓梯間，地下一層',\n",
    "             '一層，二層，三層，四層，五層，六層，七層，八層，九層，十層，十一層，十二層，十三層，十四層，騎樓']\n",
    "\n",
    "df = df[~df['移轉層次'].isin(drop_data)]\n",
    "\n",
    "\n"
   ]
  },
  {
   "cell_type": "markdown",
   "metadata": {},
   "source": [
    "複製欄位讓orange做離散化"
   ]
  },
  {
   "cell_type": "code",
   "execution_count": 6,
   "metadata": {},
   "outputs": [],
   "source": [
    "df['移轉層次(區間)'] = df['移轉層次']\n",
    "df['建物坪數(區間)'] = df['建物坪數']\n",
    "df['交易時屋齡(區間)'] = df['交易時屋齡']"
   ]
  },
  {
   "cell_type": "code",
   "execution_count": 7,
   "metadata": {},
   "outputs": [],
   "source": [
    "# 將結果寫入新的CSV文件\n",
    "df.to_csv('./csv/中山區完整資料_0712.csv', index=False)"
   ]
  },
  {
   "cell_type": "code",
   "execution_count": null,
   "metadata": {},
   "outputs": [],
   "source": []
  },
  {
   "cell_type": "code",
   "execution_count": null,
   "metadata": {},
   "outputs": [],
   "source": [
    "# 檢查每個欄位是否有空值並計算總數\n",
    "null_counts = df.isnull().sum()\n",
    "\n",
    "# 顯示結果\n",
    "print(null_counts)"
   ]
  },
  {
   "cell_type": "code",
   "execution_count": null,
   "metadata": {},
   "outputs": [],
   "source": []
  }
 ],
 "metadata": {
  "kernelspec": {
   "display_name": "Python 3",
   "language": "python",
   "name": "python3"
  },
  "language_info": {
   "codemirror_mode": {
    "name": "ipython",
    "version": 3
   },
   "file_extension": ".py",
   "mimetype": "text/x-python",
   "name": "python",
   "nbconvert_exporter": "python",
   "pygments_lexer": "ipython3",
   "version": "3.11.3"
  },
  "orig_nbformat": 4
 },
 "nbformat": 4,
 "nbformat_minor": 2
}
