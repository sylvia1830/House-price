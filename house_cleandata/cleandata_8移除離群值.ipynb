{
 "cells": [
  {
   "cell_type": "code",
   "execution_count": 1,
   "metadata": {},
   "outputs": [],
   "source": [
    "import pandas as pd\n",
    "import numpy as np\n",
    "\n",
    "df = pd.read_csv('./csv/中山區完整資料_0712_2.csv')\n"
   ]
  },
  {
   "cell_type": "code",
   "execution_count": 2,
   "metadata": {},
   "outputs": [],
   "source": [
    "df['總價(萬元)log'] = np.log(df['總價(萬元)'])\n",
    "# df['單坪價格(萬元)log'] = np.log(df['單坪價格(萬元)'])\n",
    "\n",
    "zz = df[\n",
    "    (df['單坪價格(萬元)'] >= 15) & (df['單坪價格(萬元)'] < 300) &\n",
    "    (df['總價(萬元)'] > 30) & (df['總價(萬元)'] < 100000) \n",
    "    ]\n",
    "\n",
    "# (df['建物坪數'] > 4)\n",
    "\n",
    "\n",
    "# zz.to_csv('./原資料log.csv', index=False)\n",
    "zz.to_csv('./ZS_final.csv', index=False)"
   ]
  },
  {
   "cell_type": "code",
   "execution_count": null,
   "metadata": {},
   "outputs": [],
   "source": []
  },
  {
   "cell_type": "code",
   "execution_count": null,
   "metadata": {},
   "outputs": [],
   "source": []
  },
  {
   "cell_type": "code",
   "execution_count": null,
   "metadata": {},
   "outputs": [],
   "source": []
  },
  {
   "cell_type": "code",
   "execution_count": null,
   "metadata": {},
   "outputs": [],
   "source": [
    "df.select_dtypes(include=['int64', 'float64']).columns"
   ]
  },
  {
   "cell_type": "code",
   "execution_count": null,
   "metadata": {},
   "outputs": [],
   "source": [
    "# 檢查每個欄位是否有空值並計算總數\n",
    "null_counts = df.isnull().sum()\n",
    "\n",
    "# 顯示結果\n",
    "print(null_counts)"
   ]
  }
 ],
 "metadata": {
  "kernelspec": {
   "display_name": "Python 3",
   "language": "python",
   "name": "python3"
  },
  "language_info": {
   "codemirror_mode": {
    "name": "ipython",
    "version": 3
   },
   "file_extension": ".py",
   "mimetype": "text/x-python",
   "name": "python",
   "nbconvert_exporter": "python",
   "pygments_lexer": "ipython3",
   "version": "3.11.3"
  },
  "orig_nbformat": 4
 },
 "nbformat": 4,
 "nbformat_minor": 2
}
